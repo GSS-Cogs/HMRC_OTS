{
 "cells": [
  {
   "cell_type": "markdown",
   "metadata": {},
   "source": [
    "Extract tables from November 2017 Overseas Trade Statistics (import).\n",
    "\n",
    "Load the Excel sheet and store a copy locally."
   ]
  },
  {
   "cell_type": "code",
   "execution_count": 1,
   "metadata": {},
   "outputs": [
    {
     "name": "stdout",
     "output_type": "stream",
     "text": [
      "Loading in/OTS_IMP_1711.xls which has size 105984 bytes\n",
      "Table names: ['EU Imports', 'Non-EU Imports', 'Metadata']\n"
     ]
    }
   ],
   "source": [
    "from databaker.framework import *\n",
    "import requests\n",
    "import json\n",
    "from pathlib import Path\n",
    "import datetime\n",
    "import pandas\n",
    "\n",
    "stats_file = Path('in/OTS_IMP_1711.xls')\n",
    "\n",
    "url = 'https://www.uktradeinfo.com/Statistics/OTS%20Releases/OTS_IMP_1711.xls'\n",
    "\n",
    "if not (stats_file.exists() and stats_file.is_file()):\n",
    "    response = requests.get(url)\n",
    "    with open(stats_file, 'wb') as f:\n",
    "        f.write(response.content)\n",
    "\n",
    "sheets = loadxlstabs(stats_file)"
   ]
  },
  {
   "cell_type": "code",
   "execution_count": 2,
   "metadata": {},
   "outputs": [],
   "source": [
    "assert(len(sheets) >= 3)\n",
    "eu_imports = sheets[0]\n",
    "assert(eu_imports.name == 'EU Imports')\n",
    "\n",
    "assert(eu_imports.excel_ref('A3').value == 'Chap')\n",
    "\n",
    "period = datetime.datetime.strptime(eu_imports.excel_ref('C3').value, '%B %Y')\n",
    "\n",
    "chapters = eu_imports.excel_ref('A3').fill(DOWN).regex('[0-9]{2}')\n",
    "\n",
    "data = pandas.DataFrame({\n",
    "    'cn-chapter': [cell.value for cell in chapters],\n",
    "    'year-month': period.strftime('%Y-%m'),\n",
    "    'gbp-thousands': [int(cell.value) for cell in chapters.shift(RIGHT).shift(RIGHT)]\n",
    "})\n",
    "\n",
    "data.to_csv('out/eu_imports.csv', index=False)"
   ]
  },
  {
   "cell_type": "code",
   "execution_count": null,
   "metadata": {},
   "outputs": [],
   "source": []
  }
 ],
 "metadata": {
  "kernelspec": {
   "display_name": "Python 3",
   "language": "python",
   "name": "python3"
  },
  "language_info": {
   "codemirror_mode": {
    "name": "ipython",
    "version": 3
   },
   "file_extension": ".py",
   "mimetype": "text/x-python",
   "name": "python",
   "nbconvert_exporter": "python",
   "pygments_lexer": "ipython3",
   "version": "3.6.4"
  }
 },
 "nbformat": 4,
 "nbformat_minor": 2
}
